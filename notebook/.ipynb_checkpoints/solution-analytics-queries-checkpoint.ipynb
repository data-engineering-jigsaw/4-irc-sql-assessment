{
 "cells": [
  {
   "cell_type": "markdown",
   "metadata": {},
   "source": [
    "## IRC Technical Assessment\n",
    "\n",
    "\n",
    "Answer the following questions below.  You can find the datasets to load in the `/data` folder."
   ]
  },
  {
   "cell_type": "markdown",
   "metadata": {},
   "source": [
    "### 1. What are the top five organizations by revenue in 2021?"
   ]
  },
  {
   "cell_type": "code",
   "execution_count": 2,
   "metadata": {},
   "outputs": [
    {
     "data": {
      "text/plain": [
       "[('0xAB7B829B9A1721326A19A7131A2659CC',\n",
       "  datetime.date(2021, 4, 20),\n",
       "  '$5,150.00'),\n",
       " ('0xD34FE50ED1B96D1C9D2308CD86F13530',\n",
       "  datetime.date(2021, 12, 22),\n",
       "  '$2,000.00'),\n",
       " ('0xCDC0C56B05B4D5743761F0085F0C7884',\n",
       "  datetime.date(2021, 9, 15),\n",
       "  '$1,025.00'),\n",
       " ('0xD34FE50ED1B96D1C9D2308CD86F13530', datetime.date(2021, 5, 15), '$200.00'),\n",
       " ('0x9BA80C6C39CB9080B63F9A4E14E56174', datetime.date(2021, 9, 15), '$175.00')]"
      ]
     },
     "execution_count": 2,
     "metadata": {},
     "output_type": "execute_result"
    }
   ],
   "source": [
    "conn = psycopg2.connect(dbname=\"irc\", user=\"brianrennie\", password=\"brianrennie\")\n",
    "\n",
    "cursor = conn.cursor()\n",
    "\n",
    "cursor.execute('''SELECT account_id,close_date, SUM(amount) as total_amount\n",
    "                    FROM donations \n",
    "                    WHERE account_id in (\n",
    "                                         SELECT account_id\n",
    "                                             FROM accounts\n",
    "                                             WHERE account_type = 'organization'\n",
    "                                        )\n",
    "                    AND is_revenue = 'True'\n",
    "                    GROUP BY 1,2\n",
    "                    HAVING EXTRACT(YEAR FROM close_date) = 2021  \n",
    "                    ORDER BY total_amount DESC limit 5;''')\n",
    "result = cursor.fetchall()\n",
    "result"
   ]
  },
  {
   "cell_type": "markdown",
   "metadata": {},
   "source": [
    "### 2. Create an account-level table with aggregate measures of revenue in past week, past month, past year, and all time."
   ]
  },
  {
   "cell_type": "code",
   "execution_count": 2,
   "metadata": {},
   "outputs": [],
   "source": [
    "# conn = psycopg2.connect(dbname=\"irc\", user=\"brianrennie\", password=\"brianrennie\")\n",
    "\n",
    "# cursor = conn.cursor()\n",
    "\n",
    "# cursor.execute('''WITH last_week_revenue as\n",
    "#                   (\n",
    "#                   SELECT account_id, close_date, amount, SUM(amount) OVER (PARTITION BY account_id order by close_date) as total_week_revenue\n",
    "#                     FROM donations \n",
    "#                     WHERE DATE_PART('week', close_date) = 41.0\n",
    "#                     AND is_revenue = 'True'\n",
    "#                     ),\n",
    "\n",
    "#                     total_week_revenue as\n",
    "#                     (\n",
    "#                     SELECT account_id, MAX(lwr.total_week_revenue) as last_week_revenue FROM last_week_revenue lwr group by 1\n",
    "#                     ),\n",
    "\n",
    "#                     last_month_revenue as\n",
    "#                     (\n",
    "#                       SELECT account_id, close_date, amount, SUM(amount) OVER (partition by account_id ORDER BY close_date) as total_month_revenue\n",
    "#                     FROM donations\n",
    "#                     WHERE DATE_PART('month', close_date) = 9\n",
    "#                     AND is_revenue = 'True'\n",
    "#                     ),\n",
    "\n",
    "#                     total_month_revenue as\n",
    "#                     (\n",
    "#                     SELECT account_id, MAX(lmr.total_month_revenue) last_month_revenue FROM last_month_revenue lmr group by 1\n",
    "#                     ),\n",
    "\n",
    "#                     last_year_revenue as\n",
    "#                     (\n",
    "#                       SELECT account_id, close_date, amount, SUM(amount) OVER (partition by account_id ORDER BY close_date) as total_year_revenue\n",
    "#                     FROM donations\n",
    "#                     WHERE DATE_PART('year', close_date) = 2021\n",
    "#                     AND is_revenue = 'True'\n",
    "#                     ),\n",
    "\n",
    "#                     total_year_revenue as\n",
    "#                     (\n",
    "#                     SELECT account_id, MAX(lyr.total_year_revenue) last_year_revenue FROM last_year_revenue lyr group by 1\n",
    "#                     ),\n",
    "\n",
    "#                     all_time_revenue as\n",
    "#                     (\n",
    "#                       SELECT account_id, close_date, amount, SUM(amount) OVER (partition by account_id ORDER BY close_date) as all_time_revenue\n",
    "#                     FROM donations\n",
    "#                     WHERE is_revenue = 'True'\n",
    "                    \n",
    "#                     ),\n",
    "\n",
    "#                     total_all_time_revenue as\n",
    "#                     (\n",
    "#                     SELECT account_id, MAX(atr.all_time_revenue) all_time_revenue FROM all_time_revenue atr group by 1\n",
    "#                     )\n",
    "\n",
    "#                     SELECT atr.account_id, \n",
    "#                            last_week_revenue, \n",
    "#                            last_month_revenue, \n",
    "#                            last_year_revenue, \n",
    "#                            all_time_revenue  \n",
    "#                     FROM total_all_time_revenue atr\n",
    "#                     LEFT JOIN total_week_revenue twr \n",
    "#                     ON twr.account_id = atr.account_id\n",
    "#                     JOIN total_month_revenue tmr\n",
    "#                     ON  tmr.account_id = atr.account_id\n",
    "#                     JOIN total_year_revenue tyr\n",
    "#                     ON tyr.account_id = atr.account_id\n",
    "\n",
    "\n",
    "\n",
    "                    \n",
    "# ''')\n",
    "# result = cursor.fetchall()\n",
    "# result"
   ]
  },
  {
   "cell_type": "markdown",
   "metadata": {},
   "source": [
    "### 3. What is the average first donation of new donors for each billing country?"
   ]
  },
  {
   "cell_type": "code",
   "execution_count": 6,
   "metadata": {},
   "outputs": [
    {
     "data": {
      "text/plain": [
       "[('Germany', Decimal('46.2875000000000000')),\n",
       " ('United Kingdom', Decimal('39.9500000000000000')),\n",
       " ('United States', Decimal('59.9778528528528529'))]"
      ]
     },
     "execution_count": 6,
     "metadata": {},
     "output_type": "execute_result"
    }
   ],
   "source": [
    "conn = psycopg2.connect(dbname=\"irc\", user=\"brianrennie\", password=\"brianrennie\")\n",
    "\n",
    "cursor = conn.cursor()\n",
    "\n",
    "cursor.execute('''with numbered_donations as\n",
    "                (\n",
    "                SELECT a.account_id as account,\n",
    "                       billing_country,\n",
    "                       close_date,\n",
    "                       amount::numeric as amount,\n",
    "                       ROW_NUMBER () OVER (PARTITION BY a.account_id ORDER BY close_date) as donation_number\n",
    "                       FROM accounts a\n",
    "                       JOIN donations d \n",
    "                       ON a.account_id = d.account_id\n",
    "                       WHERE d.is_revenue = 'False'          \n",
    "                ),\n",
    "                first_donations as \n",
    "                (\n",
    "                SELECT account,\n",
    "                       billing_country,\n",
    "                       close_date,\n",
    "                       amount,\n",
    "                       donation_number\n",
    "                FROM numbered_donations\n",
    "                WHERE donation_number = 1\n",
    "                )     \n",
    "                SELECT billing_country, AVG(ROUND(amount,2)) from first_donations GROUP BY 1''')\n",
    "result = cursor.fetchall()\n",
    "result"
   ]
  }
 ],
 "metadata": {
  "kernelspec": {
   "display_name": "Python 3 (ipykernel)",
   "language": "python",
   "name": "python3"
  },
  "language_info": {
   "codemirror_mode": {
    "name": "ipython",
    "version": 3
   },
   "file_extension": ".py",
   "mimetype": "text/x-python",
   "name": "python",
   "nbconvert_exporter": "python",
   "pygments_lexer": "ipython3",
   "version": "3.10.6"
  },
  "vscode": {
   "interpreter": {
    "hash": "650ea4a66747188b9976ce05df720c3be27979e47ccb5d8f5f53b85e9a24b5e0"
   }
  }
 },
 "nbformat": 4,
 "nbformat_minor": 4
}
